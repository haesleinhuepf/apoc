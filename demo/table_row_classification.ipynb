{
 "cells": [
  {
   "cell_type": "markdown",
   "id": "2c22cc5b",
   "metadata": {},
   "source": [
    "# Classification of table rows with custom measurements\n",
    "This notebook demonstrates using the apoc `TableRowClasifer`"
   ]
  },
  {
   "cell_type": "code",
   "execution_count": 1,
   "id": "501dff50",
   "metadata": {},
   "outputs": [],
   "source": [
    "import apoc\n",
    "import numpy as np\n",
    "from numpy.random import default_rng\n",
    "from skimage import draw\n",
    "from skimage.measure import regionprops_table\n",
    "import pyclesperanto_prototype as cle\n",
    "import pandas as pd"
   ]
  },
  {
   "cell_type": "code",
   "execution_count": 2,
   "id": "736b80bb",
   "metadata": {},
   "outputs": [
    {
     "data": {
      "text/plain": [
       "<Intel(R) Iris(R) Xe Graphics on Platform: Intel(R) OpenCL HD Graphics (1 refs)>"
      ]
     },
     "execution_count": 2,
     "metadata": {},
     "output_type": "execute_result"
    }
   ],
   "source": [
    "cle.select_device()"
   ]
  },
  {
   "cell_type": "markdown",
   "id": "d1153cc8-d27f-4755-8bb1-d5c0108c4bd2",
   "metadata": {},
   "source": [
    "## Example data\n",
    "We start by setting up an image with circles and squares"
   ]
  },
  {
   "cell_type": "code",
   "execution_count": 3,
   "id": "63b93049",
   "metadata": {},
   "outputs": [],
   "source": [
    "def get_square_indices(center_row, center_column, half_width=5):\n",
    "    \"\"\"Get the indices to fill in a square\"\"\"\n",
    "    start = np.array([center_row, center_column]) - half_width\n",
    "    extent = (2 * half_width, 2 * half_width)\n",
    "    return draw.rectangle(start, extent=extent)\n",
    "\n",
    "\n",
    "def get_circle_indices(center_row, center_column, half_width=5):\n",
    "    \"\"\"Get the indices to fill in a circle\"\"\"\n",
    "    center = (center_row, center_column)\n",
    "    radius = half_width\n",
    "    return draw.disk(center, radius)\n"
   ]
  },
  {
   "cell_type": "code",
   "execution_count": 4,
   "id": "6e127674",
   "metadata": {},
   "outputs": [],
   "source": [
    "# create a label image with randomly placed squares and circles\n",
    "rng = default_rng(42)\n",
    "\n",
    "label_image = np.zeros((200, 200), dtype=np.uint16)\n",
    "\n",
    "label_index = 1\n",
    "ground_truth = []\n",
    "for center_row in np.arange(10, 200, 20):\n",
    "    for center_column in np.arange(10, 200, 20):\n",
    "        shape_type = rng.choice([\"square\", \"circle\"])\n",
    "        if shape_type == \"square\":\n",
    "            shape_function = get_square_indices\n",
    "            ground_truth.append(1)\n",
    "        else:\n",
    "            shape_function = get_circle_indices\n",
    "            ground_truth.append(2)\n",
    "        shape_rows, shape_columns = shape_function(center_row, center_column, half_width=5)\n",
    "        \n",
    "        label_image[shape_rows, shape_columns] = label_index\n",
    "    \n",
    "        label_index += 1\n",
    "\n",
    "ground_truth = np.asarray(ground_truth)"
   ]
  },
  {
   "cell_type": "code",
   "execution_count": 5,
   "id": "aa84dfbf",
   "metadata": {},
   "outputs": [
    {
     "data": {
      "image/png": "[encoded data removed]",
      "text/plain": [
       "<Figure size 432x288 with 1 Axes>"
      ]
     },
     "metadata": {
      "needs_background": "light"
     },
     "output_type": "display_data"
    }
   ],
   "source": [
    "# view the label image\n",
    "cle.imshow(label_image, labels=True)"
   ]
  },
  {
   "cell_type": "markdown",
   "id": "fc6f4fb1-a90a-4bf1-b1f8-14737a733bee",
   "metadata": {},
   "source": [
    "## Feature extraction\n",
    "We now set up a table of measurements. Here we use [scikit-image's regionprops_table](https://scikit-image.org/docs/dev/api/skimage.measure.html#skimage.measure.regionprops_table)."
   ]
  },
  {
   "cell_type": "code",
   "execution_count": 6,
   "id": "5f6786bd",
   "metadata": {},
   "outputs": [],
   "source": [
    "# measure the  using skimage's regionprops_table function\n",
    "measurement_table = regionprops_table(label_image, properties=(\"label\", \"area\", \"perimeter\", \"extent\", \"eccentricity\"))\n",
    "labels = measurement_table.pop(\"label\")"
   ]
  },
  {
   "cell_type": "code",
   "execution_count": 7,
   "id": "3ab6c6db-eaee-484d-bee5-531696ca5b2e",
   "metadata": {},
   "outputs": [],
   "source": [
    "# extract the first 50 measurements to use as training\n",
    "measurements_training = {key: values[0:50] for key, values in measurement_table.items()}\n",
    "ground_truth_training = ground_truth[0:50]"
   ]
  },
  {
   "cell_type": "markdown",
   "id": "7ce025f3-3b16-4cba-babf-06db52218c3f",
   "metadata": {},
   "source": [
    "## Classifier training\n",
    "We next train a `TableRowClassifier` and save it to a `.cl` file."
   ]
  },
  {
   "cell_type": "code",
   "execution_count": 8,
   "id": "ea6ee569-d058-42f1-ac02-41c78e5ab3b2",
   "metadata": {},
   "outputs": [],
   "source": [
    "# create the classifier and train it\n",
    "cl_filename = \"shape_classifier.model.cl\"\n",
    "num_trees = 1000\n",
    "max_depth = 1\n",
    "\n",
    "apoc.erase_classifier(cl_filename)\n",
    "classifier = apoc.TableRowClassifier(cl_filename, num_ensembles=num_trees, max_depth=max_depth)\n",
    "classifier.train(measurements_training, ground_truth_training)"
   ]
  },
  {
   "cell_type": "markdown",
   "id": "af795580-2074-4de2-beac-41926b774308",
   "metadata": {},
   "source": [
    "## Prediction\n",
    "Next, we use the classifier to generate a prediction and visualize it as parametric / classification label image."
   ]
  },
  {
   "cell_type": "code",
   "execution_count": 9,
   "id": "d01400b8",
   "metadata": {},
   "outputs": [
    {
     "data": {
      "image/png": "[encoded data removed]",
      "text/plain": [
       "<Figure size 432x288 with 1 Axes>"
      ]
     },
     "metadata": {
      "needs_background": "light"
     },
     "output_type": "display_data"
    }
   ],
   "source": [
    "# predict on the full table\n",
    "prediction = classifier.predict(measurement_table)\n",
    "\n",
    "# prefix class==0 for the background (first entry, label=0)\n",
    "annotation = [0] + prediction.tolist()\n",
    "\n",
    "# create an image where the objects are colored by the predicted shape\n",
    "shape_image = cle.replace_intensities(label_image, annotation)\n",
    "\n",
    "cle.imshow(shape_image, labels=True, min_display_intensity=0)"
   ]
  },
  {
   "cell_type": "markdown",
   "id": "1aa51355-a754-4a39-b2d9-6c20cd4e9db6",
   "metadata": {},
   "source": [
    "## Classifier statistics\n",
    "We can also visualize the share of the decision trees take a given parameter into account when making their decision. This allows us to differentiate parameters that are useful for making the classification from those which are not.\n",
    "\n",
    "Note: Multiple of these parameters may be correleated. If you enter 11 parameters, which all allow to make the classification similarly, but 10 of those are correlated, these 10 may appear with a share of about 0.05 while the 11th parameter has a share of 0.5. Thus, study these values with care."
   ]
  },
  {
   "cell_type": "code",
   "execution_count": 10,
   "id": "3cecdedd-3dbd-4c91-8e5d-fa330f31f9bd",
   "metadata": {},
   "outputs": [
    {
     "data": {
      "text/html": [
       "<style type=\"text/css\">\n",
       "#T_21e30_row0_col0 {\n",
       "  background-color: #ff6d38;\n",
       "  color: #f1f1f1;\n",
       "}\n",
       "#T_21e30_row1_col0 {\n",
       "  background-color: #ff3e1f;\n",
       "  color: #f1f1f1;\n",
       "}\n",
       "#T_21e30_row2_col0 {\n",
       "  background-color: #ff0000;\n",
       "  color: #f1f1f1;\n",
       "}\n",
       "#T_21e30_row3_col0 {\n",
       "  background-color: #8000ff;\n",
       "  color: #f1f1f1;\n",
       "}\n",
       "</style>\n",
       "<table id=\"T_21e30\">\n",
       "  <thead>\n",
       "    <tr>\n",
       "      <th class=\"blank level0\" >&nbsp;</th>\n",
       "      <th id=\"T_21e30_level0_col0\" class=\"col_heading level0 col0\" >0</th>\n",
       "    </tr>\n",
       "  </thead>\n",
       "  <tbody>\n",
       "    <tr>\n",
       "      <th id=\"T_21e30_level0_row0\" class=\"row_heading level0 row0\" >area</th>\n",
       "      <td id=\"T_21e30_row0_col0\" class=\"data row0 col0\" >0.309000</td>\n",
       "    </tr>\n",
       "    <tr>\n",
       "      <th id=\"T_21e30_level0_row1\" class=\"row_heading level0 row1\" >perimeter</th>\n",
       "      <td id=\"T_21e30_row1_col0\" class=\"data row1 col0\" >0.331000</td>\n",
       "    </tr>\n",
       "    <tr>\n",
       "      <th id=\"T_21e30_level0_row2\" class=\"row_heading level0 row2\" >extent</th>\n",
       "      <td id=\"T_21e30_row2_col0\" class=\"data row2 col0\" >0.360000</td>\n",
       "    </tr>\n",
       "    <tr>\n",
       "      <th id=\"T_21e30_level0_row3\" class=\"row_heading level0 row3\" >eccentricity</th>\n",
       "      <td id=\"T_21e30_row3_col0\" class=\"data row3 col0\" >0.000000</td>\n",
       "    </tr>\n",
       "  </tbody>\n",
       "</table>\n"
      ],
      "text/plain": [
       "<pandas.io.formats.style.Styler at 0x26898383520>"
      ]
     },
     "execution_count": 10,
     "metadata": {},
     "output_type": "execute_result"
    }
   ],
   "source": [
    "def colorize(styler):\n",
    "    styler.background_gradient(axis=None, cmap=\"rainbow\")\n",
    "    return styler\n",
    "\n",
    "shares, counts = classifier.statistics()\n",
    "df = pd.DataFrame(shares).T\n",
    "df.style.pipe(colorize)"
   ]
  },
  {
   "cell_type": "code",
   "execution_count": 11,
   "id": "a787b899-cd6f-42eb-a36f-26cb01901cba",
   "metadata": {},
   "outputs": [
    {
     "data": {
      "text/html": [
       "<style type=\"text/css\">\n",
       "#T_f2d19_row0_col0 {\n",
       "  background-color: #8000ff;\n",
       "  color: #f1f1f1;\n",
       "}\n",
       "#T_f2d19_row1_col0 {\n",
       "  background-color: #ff0000;\n",
       "  color: #f1f1f1;\n",
       "}\n",
       "</style>\n",
       "<table id=\"T_f2d19\">\n",
       "  <thead>\n",
       "    <tr>\n",
       "      <th class=\"blank level0\" >&nbsp;</th>\n",
       "      <th id=\"T_f2d19_level0_col0\" class=\"col_heading level0 col0\" >0</th>\n",
       "    </tr>\n",
       "  </thead>\n",
       "  <tbody>\n",
       "    <tr>\n",
       "      <th id=\"T_f2d19_level0_row0\" class=\"row_heading level0 row0\" >area</th>\n",
       "      <td id=\"T_f2d19_row0_col0\" class=\"data row0 col0\" >0.483000</td>\n",
       "    </tr>\n",
       "    <tr>\n",
       "      <th id=\"T_f2d19_level0_row1\" class=\"row_heading level0 row1\" >perimeter</th>\n",
       "      <td id=\"T_f2d19_row1_col0\" class=\"data row1 col0\" >0.517000</td>\n",
       "    </tr>\n",
       "  </tbody>\n",
       "</table>\n"
      ],
      "text/plain": [
       "<pandas.io.formats.style.Styler at 0x268983835b0>"
      ]
     },
     "execution_count": 11,
     "metadata": {},
     "output_type": "execute_result"
    }
   ],
   "source": [
    "classifier.train(pd.DataFrame(measurements_training)[[\"area\", \"perimeter\"]], ground_truth_training)\n",
    "shares, counts = classifier.statistics()\n",
    "df = pd.DataFrame(shares).T\n",
    "df.style.pipe(colorize)"
   ]
  },
  {
   "cell_type": "code",
   "execution_count": 12,
   "id": "ec742e51-f48c-4d2f-994f-02953ee5eac9",
   "metadata": {},
   "outputs": [
    {
     "data": {
      "text/plain": [
       "{'area': 0.483, 'perimeter': 0.517}"
      ]
     },
     "execution_count": 12,
     "metadata": {},
     "output_type": "execute_result"
    }
   ],
   "source": [
    "classifier.feature_importances()"
   ]
  },
  {
   "cell_type": "code",
   "execution_count": null,
   "id": "23347429-dd18-429c-b4bc-31befc0b20e2",
   "metadata": {},
   "outputs": [],
   "source": []
  }
 ],
 "metadata": {
  "kernelspec": {
   "display_name": "Python 3 (ipykernel)",
   "language": "python",
   "name": "python3"
  },
  "language_info": {
   "codemirror_mode": {
    "name": "ipython",
    "version": 3
   },
   "file_extension": ".py",
   "mimetype": "text/x-python",
   "name": "python",
   "nbconvert_exporter": "python",
   "pygments_lexer": "ipython3",
   "version": "3.9.13"
  }
 },
 "nbformat": 4,
 "nbformat_minor": 5
}
