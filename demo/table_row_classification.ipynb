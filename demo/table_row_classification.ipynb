{
 "cells": [
  {
   "cell_type": "markdown",
   "id": "2c22cc5b",
   "metadata": {},
   "source": [
    "This notebook demonstrates using the apoc `TableRowClasifer`"
   ]
  },
  {
   "cell_type": "code",
   "execution_count": 1,
   "id": "501dff50",
   "metadata": {},
   "outputs": [],
   "source": [
    "import apoc\n",
    "import numpy as np\n",
    "from numpy.random import default_rng\n",
    "from skimage import draw\n",
    "from skimage.measure import regionprops_table\n",
    "import pyclesperanto_prototype as cle"
   ]
  },
  {
   "cell_type": "code",
   "execution_count": 2,
   "id": "736b80bb",
   "metadata": {},
   "outputs": [
    {
     "data": {
      "text/plain": [
       "<pthread-Intel(R) Xeon(R) W-2125 CPU @ 4.00GHz on Platform: Portable Computing Language (2 refs)>"
      ]
     },
     "execution_count": 2,
     "metadata": {},
     "output_type": "execute_result"
    }
   ],
   "source": [
    "cle.select_device()"
   ]
  },
  {
   "cell_type": "code",
   "execution_count": 3,
   "id": "63b93049",
   "metadata": {},
   "outputs": [],
   "source": [
    "def get_square_indices(center_row, center_column, half_width=5):\n",
    "    \"\"\"Get the indices to fill in a square\"\"\"\n",
    "    start = np.array([center_row, center_column]) - half_width\n",
    "    extent = (2 * half_width, 2 * half_width)\n",
    "    return draw.rectangle(start, extent=extent)\n",
    "\n",
    "\n",
    "def get_circle_indices(center_row, center_column, half_width=5):\n",
    "    \"\"\"Get the indices to fill in a circle\"\"\"\n",
    "    center = (center_row, center_column)\n",
    "    radius = half_width\n",
    "    return draw.disk(center, radius)\n"
   ]
  },
  {
   "cell_type": "code",
   "execution_count": 4,
   "id": "6e127674",
   "metadata": {},
   "outputs": [],
   "source": [
    "# create a label image with randomly placed squares and circles\n",
    "rng = default_rng(42)\n",
    "\n",
    "label_image = np.zeros((200, 200), dtype=np.uint16)\n",
    "\n",
    "label_index = 1\n",
    "ground_truth = []\n",
    "for center_row in np.arange(10, 200, 20):\n",
    "    for center_column in np.arange(10, 200, 20):\n",
    "        shape_type = rng.choice([\"square\", \"circle\"])\n",
    "        if shape_type == \"square\":\n",
    "            shape_function = get_square_indices\n",
    "            ground_truth.append(1)\n",
    "        else:\n",
    "            shape_function = get_circle_indices\n",
    "            ground_truth.append(2)\n",
    "        shape_rows, shape_columns = shape_function(center_row, center_column, half_width=5)\n",
    "        \n",
    "        label_image[shape_rows, shape_columns] = label_index\n",
    "    \n",
    "        label_index += 1\n",
    "\n",
    "ground_truth = np.asarray(ground_truth)"
   ]
  },
  {
   "cell_type": "code",
   "execution_count": 5,
   "id": "aa84dfbf",
   "metadata": {},
   "outputs": [
    {
     "data": {
      "image/png": "[encoded data removed]",
      "text/plain": [
       "<Figure size 432x288 with 1 Axes>"
      ]
     },
     "metadata": {
      "needs_background": "light"
     },
     "output_type": "display_data"
    }
   ],
   "source": [
    "# view the label image\n",
    "cle.imshow(label_image, labels=True)"
   ]
  },
  {
   "cell_type": "code",
   "execution_count": 6,
   "id": "5f6786bd",
   "metadata": {},
   "outputs": [],
   "source": [
    "# measure the  using skimage's regionprops_table function\n",
    "measurement_table = regionprops_table(label_image, properties=(\"label\", \"area\", \"perimeter\"))\n",
    "labels = measurement_table.pop(\"label\")"
   ]
  },
  {
   "cell_type": "code",
   "execution_count": 7,
   "id": "64923b38",
   "metadata": {},
   "outputs": [],
   "source": [
    "# extract the first 50 measurements to use as training\n",
    "measurements_training = {key: values[0:50] for key, values in measurement_table.items()}\n",
    "ground_truth_training = ground_truth[0:50]\n",
    "\n",
    "# create the classifier and train it\n",
    "cl_filename = \"shape_classifier.model.cl\"\n",
    "apoc.erase_classifier(cl_filename)\n",
    "classifier = apoc.TableRowClassifier(cl_filename)\n",
    "classifier.train(measurements_training, ground_truth_training)\n"
   ]
  },
  {
   "cell_type": "code",
   "execution_count": 8,
   "id": "d01400b8",
   "metadata": {},
   "outputs": [
    {
     "data": {
      "image/png": "[encoded data removed]",
      "text/plain": [
       "<Figure size 432x288 with 1 Axes>"
      ]
     },
     "metadata": {
      "needs_background": "light"
     },
     "output_type": "display_data"
    }
   ],
   "source": [
    "# predict on the full table\n",
    "prediction = classifier.predict(measurement_table)\n",
    "\n",
    "# create an image where the objects are colored by the predicted shape\n",
    "shape_image = np.zeros_like(label_image)\n",
    "for label_index, predicted_shape in zip(labels, prediction):\n",
    "    shape_image[label_image == label_index] = predicted_shape\n",
    "\n",
    "cle.imshow(shape_image, labels=True)"
   ]
  }
 ],
 "metadata": {
  "kernelspec": {
   "display_name": "Python 3 (ipykernel)",
   "language": "python",
   "name": "python3"
  },
  "language_info": {
   "codemirror_mode": {
    "name": "ipython",
    "version": 3
   },
   "file_extension": ".py",
   "mimetype": "text/x-python",
   "name": "python",
   "nbconvert_exporter": "python",
   "pygments_lexer": "ipython3",
   "version": "3.8.12"
  }
 },
 "nbformat": 4,
 "nbformat_minor": 5
}
